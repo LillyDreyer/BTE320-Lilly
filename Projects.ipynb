{
  "nbformat": 4,
  "nbformat_minor": 0,
  "metadata": {
    "colab": {
      "provenance": [],
      "authorship_tag": "ABX9TyNNQKDajGtw4iFxKNhnIS8z",
      "include_colab_link": true
    },
    "kernelspec": {
      "name": "python3",
      "display_name": "Python 3"
    },
    "language_info": {
      "name": "python"
    }
  },
  "cells": [
    {
      "cell_type": "markdown",
      "metadata": {
        "id": "view-in-github",
        "colab_type": "text"
      },
      "source": [
        "<a href=\"https://colab.research.google.com/github/LillyDreyer/BTE320-Lilly/blob/main/Projects.ipynb\" target=\"_parent\"><img src=\"https://colab.research.google.com/assets/colab-badge.svg\" alt=\"Open In Colab\"/></a>"
      ]
    },
    {
      "cell_type": "code",
      "execution_count": null,
      "metadata": {
        "id": "RVy7oHdbnA-z"
      },
      "outputs": [],
      "source": [
        "import random\n",
        "user_choice1 = input(\"Do you want to play the game? Type Yes or No: \")\n",
        "while user_choice1 == 'Yes' or 'yes':\n",
        "  pc_choice = random.choice(['rock','paper','scissors'])\n",
        "  user_choice2 = input(\"Type either 'rock', 'paper' or 'scissors' here: \")\n",
        "  print(f'PC picked '+ pc_choice)\n",
        "  if(pc_choice == user_choice2):\n",
        "    print('tie')\n",
        "  elif((pc_choice == 'paper' and user_choice2 == 'scissors') or\n",
        "    (pc_choice == 'scissors' and user_choice2 == 'rock') or\n",
        "    (pc_choice == 'rock' and user_choice2 == 'paper')):\n",
        "    print('you win!')\n",
        "  else:\n",
        "    print('you lose!')\n",
        "  user_choice1 = input(\"Do you want to play the game? Type Yes or No: \")"
      ]
    },
    {
      "cell_type": "code",
      "source": [
        "base_fee = 5\n",
        "hour_fee = 2.5\n",
        "for hour in range(8):\n",
        "  price = (hour+1)*hour_fee + base_fee\n",
        "  if price > 20:\n",
        "    price = 20.0\n",
        "  elif price < 10:\n",
        "    price = 10.0\n",
        "  print(f'{hour+1} {price}')"
      ],
      "metadata": {
        "colab": {
          "base_uri": "https://localhost:8080/"
        },
        "id": "Y5AvXN_jnOXx",
        "outputId": "6d3fbc2b-1453-414b-f1db-25cbe658e390"
      },
      "execution_count": null,
      "outputs": [
        {
          "output_type": "stream",
          "name": "stdout",
          "text": [
            "1 10.0\n",
            "2 10.0\n",
            "3 12.5\n",
            "4 15.0\n",
            "5 17.5\n",
            "6 20.0\n",
            "7 20.0\n",
            "8 20.0\n"
          ]
        }
      ]
    },
    {
      "cell_type": "code",
      "source": [
        "ticket_price = 10\n",
        "base_attendees = 20\n",
        "base_cost = 200\n",
        "print('Ad$  Profit')\n",
        "for ad_cost in range(0,201,25):\n",
        "  cost = base_cost + ad_cost\n",
        "  additional_attendees = 2*round(ad_cost**0.5)\n",
        "  attendees = base_attendees + additional_attendees\n",
        "  revenue = ticket_price * attendees\n",
        "  profit = revenue - cost\n",
        "  print(f'{float(ad_cost)}     {float(profit)}')"
      ],
      "metadata": {
        "colab": {
          "base_uri": "https://localhost:8080/"
        },
        "id": "5Ts3WEVynj1M",
        "outputId": "0e1d0ba8-0462-43a3-8538-cec2041f8f0a"
      },
      "execution_count": null,
      "outputs": [
        {
          "output_type": "stream",
          "name": "stdout",
          "text": [
            "Ad$  Profit\n",
            "0.0     0.0\n",
            "25.0     75.0\n",
            "50.0     90.0\n",
            "75.0     105.0\n",
            "100.0     100.0\n",
            "125.0     95.0\n",
            "150.0     90.0\n",
            "175.0     85.0\n",
            "200.0     80.0\n"
          ]
        }
      ]
    },
    {
      "cell_type": "code",
      "source": [
        "while True:\n",
        "  number1 = int(input(\"Type the first number: \"))\n",
        "  operator = input(\"Type an operator (+, -, *, /, //, %, **) or type 'break' to end : \")\n",
        "  number2 = int(input(\"Type the second number: \"))\n",
        "  if operator == '+':\n",
        "    result = number1 + number2\n",
        "    print(result)\n",
        "  elif operator == '-':\n",
        "    result = number1 - number2\n",
        "    print(result)\n",
        "  elif operator == '*':\n",
        "    result = number1 * number2\n",
        "    print(result)\n",
        "  elif operator == '/':\n",
        "    result = number1 / number2\n",
        "    print(result)\n",
        "  elif operator == '//':\n",
        "    result = number1 // number2\n",
        "    print(result)\n",
        "  elif operator == '%':\n",
        "    result = number1 % number2\n",
        "    print(result)\n",
        "  elif operator == '**':\n",
        "    result = number1 ** number2\n",
        "    print(result)\n",
        "  elif operator == 'break':\n",
        "    break\n",
        "  else:\n",
        "    continue"
      ],
      "metadata": {
        "id": "k5Vogrxsogqo"
      },
      "execution_count": null,
      "outputs": []
    },
    {
      "cell_type": "code",
      "source": [
        "date = input('Enter a date: ')\n",
        "month = date[:2]\n",
        "day = date[3:5]\n",
        "year = date[6:]\n",
        "print(month,day,year)"
      ],
      "metadata": {
        "id": "q3q5h0TYCyJ3",
        "outputId": "9a5197f3-45e1-4923-efa6-20d1e91083ac",
        "colab": {
          "base_uri": "https://localhost:8080/"
        }
      },
      "execution_count": 1,
      "outputs": [
        {
          "output_type": "stream",
          "name": "stdout",
          "text": [
            "Enter a date: 02/21/2024\n",
            "02 21 2024\n"
          ]
        }
      ]
    }
  ]
}