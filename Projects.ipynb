{
  "nbformat": 4,
  "nbformat_minor": 0,
  "metadata": {
    "colab": {
      "provenance": [],
      "authorship_tag": "ABX9TyPyG0KOUco6LMhuLQnKv0BE",
      "include_colab_link": true
    },
    "kernelspec": {
      "name": "python3",
      "display_name": "Python 3"
    },
    "language_info": {
      "name": "python"
    }
  },
  "cells": [
    {
      "cell_type": "markdown",
      "metadata": {
        "id": "view-in-github",
        "colab_type": "text"
      },
      "source": [
        "<a href=\"https://colab.research.google.com/github/LillyDreyer/BTE320-Lilly/blob/main/Projects.ipynb\" target=\"_parent\"><img src=\"https://colab.research.google.com/assets/colab-badge.svg\" alt=\"Open In Colab\"/></a>"
      ]
    },
    {
      "cell_type": "code",
      "execution_count": null,
      "metadata": {
        "colab": {
          "base_uri": "https://localhost:8080/",
          "height": 615
        },
        "id": "RVy7oHdbnA-z",
        "outputId": "95f1ece5-19ae-4c71-9f67-afece47bdd63"
      },
      "outputs": [
        {
          "output_type": "stream",
          "name": "stdout",
          "text": [
            "Do you want to play the game? Type Yes or No: yes\n",
            "Type either 'rock', 'paper' or 'scissors' here: rock\n",
            "PC picked scissors\n",
            "you win!\n",
            "Do you want to play the game? Type Yes or No: no\n",
            "Type either 'rock', 'paper' or 'scissors' here: paper\n",
            "PC picked rock\n",
            "you win!\n",
            "Do you want to play the game? Type Yes or No: No\n",
            "Type either 'rock', 'paper' or 'scissors' here: paper\n",
            "PC picked paper\n",
            "tie\n",
            "Do you want to play the game? Type Yes or No: No\n",
            "Type either 'rock', 'paper' or 'scissors' here: No\n",
            "PC picked paper\n",
            "you lose!\n"
          ]
        },
        {
          "output_type": "error",
          "ename": "KeyboardInterrupt",
          "evalue": "Interrupted by user",
          "traceback": [
            "\u001b[0;31m---------------------------------------------------------------------------\u001b[0m",
            "\u001b[0;31mKeyboardInterrupt\u001b[0m                         Traceback (most recent call last)",
            "\u001b[0;32m<ipython-input-1-196ddff5281d>\u001b[0m in \u001b[0;36m<cell line: 3>\u001b[0;34m()\u001b[0m\n\u001b[1;32m     13\u001b[0m   \u001b[0;32melse\u001b[0m\u001b[0;34m:\u001b[0m\u001b[0;34m\u001b[0m\u001b[0;34m\u001b[0m\u001b[0m\n\u001b[1;32m     14\u001b[0m     \u001b[0mprint\u001b[0m\u001b[0;34m(\u001b[0m\u001b[0;34m'you lose!'\u001b[0m\u001b[0;34m)\u001b[0m\u001b[0;34m\u001b[0m\u001b[0;34m\u001b[0m\u001b[0m\n\u001b[0;32m---> 15\u001b[0;31m   \u001b[0muser_choice1\u001b[0m \u001b[0;34m=\u001b[0m \u001b[0minput\u001b[0m\u001b[0;34m(\u001b[0m\u001b[0;34m\"Do you want to play the game? Type Yes or No: \"\u001b[0m\u001b[0;34m)\u001b[0m\u001b[0;34m\u001b[0m\u001b[0;34m\u001b[0m\u001b[0m\n\u001b[0m",
            "\u001b[0;32m/usr/local/lib/python3.10/dist-packages/ipykernel/kernelbase.py\u001b[0m in \u001b[0;36mraw_input\u001b[0;34m(self, prompt)\u001b[0m\n\u001b[1;32m    849\u001b[0m                 \u001b[0;34m\"raw_input was called, but this frontend does not support input requests.\"\u001b[0m\u001b[0;34m\u001b[0m\u001b[0;34m\u001b[0m\u001b[0m\n\u001b[1;32m    850\u001b[0m             )\n\u001b[0;32m--> 851\u001b[0;31m         return self._input_request(str(prompt),\n\u001b[0m\u001b[1;32m    852\u001b[0m             \u001b[0mself\u001b[0m\u001b[0;34m.\u001b[0m\u001b[0m_parent_ident\u001b[0m\u001b[0;34m,\u001b[0m\u001b[0;34m\u001b[0m\u001b[0;34m\u001b[0m\u001b[0m\n\u001b[1;32m    853\u001b[0m             \u001b[0mself\u001b[0m\u001b[0;34m.\u001b[0m\u001b[0m_parent_header\u001b[0m\u001b[0;34m,\u001b[0m\u001b[0;34m\u001b[0m\u001b[0;34m\u001b[0m\u001b[0m\n",
            "\u001b[0;32m/usr/local/lib/python3.10/dist-packages/ipykernel/kernelbase.py\u001b[0m in \u001b[0;36m_input_request\u001b[0;34m(self, prompt, ident, parent, password)\u001b[0m\n\u001b[1;32m    893\u001b[0m             \u001b[0;32mexcept\u001b[0m \u001b[0mKeyboardInterrupt\u001b[0m\u001b[0;34m:\u001b[0m\u001b[0;34m\u001b[0m\u001b[0;34m\u001b[0m\u001b[0m\n\u001b[1;32m    894\u001b[0m                 \u001b[0;31m# re-raise KeyboardInterrupt, to truncate traceback\u001b[0m\u001b[0;34m\u001b[0m\u001b[0;34m\u001b[0m\u001b[0m\n\u001b[0;32m--> 895\u001b[0;31m                 \u001b[0;32mraise\u001b[0m \u001b[0mKeyboardInterrupt\u001b[0m\u001b[0;34m(\u001b[0m\u001b[0;34m\"Interrupted by user\"\u001b[0m\u001b[0;34m)\u001b[0m \u001b[0;32mfrom\u001b[0m \u001b[0;32mNone\u001b[0m\u001b[0;34m\u001b[0m\u001b[0;34m\u001b[0m\u001b[0m\n\u001b[0m\u001b[1;32m    896\u001b[0m             \u001b[0;32mexcept\u001b[0m \u001b[0mException\u001b[0m \u001b[0;32mas\u001b[0m \u001b[0me\u001b[0m\u001b[0;34m:\u001b[0m\u001b[0;34m\u001b[0m\u001b[0;34m\u001b[0m\u001b[0m\n\u001b[1;32m    897\u001b[0m                 \u001b[0mself\u001b[0m\u001b[0;34m.\u001b[0m\u001b[0mlog\u001b[0m\u001b[0;34m.\u001b[0m\u001b[0mwarning\u001b[0m\u001b[0;34m(\u001b[0m\u001b[0;34m\"Invalid Message:\"\u001b[0m\u001b[0;34m,\u001b[0m \u001b[0mexc_info\u001b[0m\u001b[0;34m=\u001b[0m\u001b[0;32mTrue\u001b[0m\u001b[0;34m)\u001b[0m\u001b[0;34m\u001b[0m\u001b[0;34m\u001b[0m\u001b[0m\n",
            "\u001b[0;31mKeyboardInterrupt\u001b[0m: Interrupted by user"
          ]
        }
      ],
      "source": [
        "import random\n",
        "user_choice1 = input(\"Do you want to play the game? Type Yes or No: \")\n",
        "while user_choice1 == 'Yes' or 'yes':\n",
        "  pc_choice = random.choice(['rock','paper','scissors'])\n",
        "  user_choice2 = input(\"Type either 'rock', 'paper' or 'scissors' here: \")\n",
        "  print(f'PC picked '+ pc_choice)\n",
        "  if(pc_choice == user_choice2):\n",
        "    print('tie')\n",
        "  elif((pc_choice == 'paper' and user_choice2 == 'scissors') or\n",
        "    (pc_choice == 'scissors' and user_choice2 == 'rock') or\n",
        "    (pc_choice == 'rock' and user_choice2 == 'paper')):\n",
        "    print('you win!')\n",
        "  else:\n",
        "    print('you lose!')\n",
        "  user_choice1 = input(\"Do you want to play the game? Type Yes or No: \")"
      ]
    },
    {
      "cell_type": "code",
      "source": [
        "base_fee = 5\n",
        "hour_fee = 2.5\n",
        "for hour in range(8):\n",
        "  price = (hour+1)*hour_fee + base_fee\n",
        "  if price > 20:\n",
        "    price = 20.0\n",
        "  elif price < 10:\n",
        "    price = 10.0\n",
        "  print(f'{hour+1} {price}')"
      ],
      "metadata": {
        "colab": {
          "base_uri": "https://localhost:8080/"
        },
        "id": "Y5AvXN_jnOXx",
        "outputId": "6d3fbc2b-1453-414b-f1db-25cbe658e390"
      },
      "execution_count": null,
      "outputs": [
        {
          "output_type": "stream",
          "name": "stdout",
          "text": [
            "1 10.0\n",
            "2 10.0\n",
            "3 12.5\n",
            "4 15.0\n",
            "5 17.5\n",
            "6 20.0\n",
            "7 20.0\n",
            "8 20.0\n"
          ]
        }
      ]
    },
    {
      "cell_type": "code",
      "source": [
        "ticket_price = 10\n",
        "base_attendees = 20\n",
        "base_cost = 200\n",
        "print('Ad$  Profit')\n",
        "for ad_cost in range(0,201,25):\n",
        "  cost = base_cost + ad_cost\n",
        "  additional_attendees = 2*round(ad_cost**0.5)\n",
        "  attendees = base_attendees + additional_attendees\n",
        "  revenue = ticket_price * attendees\n",
        "  profit = revenue - cost\n",
        "  print(f'{float(ad_cost)}     {float(profit)}')"
      ],
      "metadata": {
        "colab": {
          "base_uri": "https://localhost:8080/"
        },
        "id": "5Ts3WEVynj1M",
        "outputId": "0e1d0ba8-0462-43a3-8538-cec2041f8f0a"
      },
      "execution_count": null,
      "outputs": [
        {
          "output_type": "stream",
          "name": "stdout",
          "text": [
            "Ad$  Profit\n",
            "0.0     0.0\n",
            "25.0     75.0\n",
            "50.0     90.0\n",
            "75.0     105.0\n",
            "100.0     100.0\n",
            "125.0     95.0\n",
            "150.0     90.0\n",
            "175.0     85.0\n",
            "200.0     80.0\n"
          ]
        }
      ]
    },
    {
      "cell_type": "code",
      "source": [
        "while True:\n",
        "  number1 = int(input(\"Type the first number: \"))\n",
        "  operator = input(\"Type an operator (+, -, *, /, //, %, **) or type 'break' to end : \")\n",
        "  number2 = int(input(\"Type the second number: \"))\n",
        "  if operator == 'break':\n",
        "    break\n",
        "  if operator == '+':\n",
        "    result = number1 + number2\n",
        "  elif operator == '-':\n",
        "    result = number1 - number2\n",
        "  elif operator == '*':\n",
        "    result = number1 * number2\n",
        "  elif operator == '/':\n",
        "    result = number1 / number2\n",
        "  elif operator == '//':\n",
        "    result = number1 // number2\n",
        "  elif operator == '%':\n",
        "    result = number1 % number2\n",
        "  elif operator == '**':\n",
        "    result = number1 ** number2\n",
        "  else:\n",
        "    print('Invalid operator: ', operator)\n",
        "    continue\n",
        "  print(result)"
      ],
      "metadata": {
        "id": "k5Vogrxsogqo",
        "colab": {
          "base_uri": "https://localhost:8080/"
        },
        "outputId": "8c08c068-e058-4d3c-f682-5bf85f4004e4"
      },
      "execution_count": null,
      "outputs": [
        {
          "name": "stdout",
          "output_type": "stream",
          "text": [
            "Type the first number: 1\n",
            "Type an operator (+, -, *, /, //, %, **) or type 'break' to end : *\n",
            "Type the second number: 5\n",
            "5\n",
            "Type the first number: 3\n",
            "Type an operator (+, -, *, /, //, %, **) or type 'break' to end : /\n",
            "Type the second number: 10\n",
            "0.3\n",
            "Type the first number: 1\n",
            "Type an operator (+, -, *, /, //, %, **) or type 'break' to end : continue\n",
            "Type the second number: 4\n",
            "Invalid operator:  continue\n",
            "Type the first number: 1\n",
            "Type an operator (+, -, *, /, //, %, **) or type 'break' to end : break\n",
            "Type the second number: 4\n"
          ]
        }
      ]
    },
    {
      "cell_type": "code",
      "source": [
        "s1='abcdefg'\n",
        "s2='abdght'\n",
        "for char in s1:\n",
        "  if char in s2:\n",
        "    print(char)\n",
        "\n",
        "for index in range(len(s1)):\n",
        "  if s1[index] in s2:\n",
        "    print(s1[index])"
      ],
      "metadata": {
        "colab": {
          "base_uri": "https://localhost:8080/"
        },
        "id": "T_HVTtIzVRgX",
        "outputId": "d35fbefb-d8ab-4f0a-f583-7de9e13f5aad"
      },
      "execution_count": null,
      "outputs": [
        {
          "output_type": "stream",
          "name": "stdout",
          "text": [
            "a\n",
            "b\n",
            "d\n",
            "g\n",
            "a\n",
            "b\n",
            "d\n",
            "g\n"
          ]
        }
      ]
    },
    {
      "cell_type": "code",
      "source": [
        "L = []\n",
        "while(True):\n",
        "  number = int(input('Enter a number: '))\n",
        "  if(number == 0):\n",
        "    break\n",
        "  else:\n",
        "    L.append(number)\n",
        "L"
      ],
      "metadata": {
        "colab": {
          "base_uri": "https://localhost:8080/"
        },
        "id": "PBXDofytEejU",
        "outputId": "b430f2f0-de74-4445-dcfc-f48e72af5e0d"
      },
      "execution_count": null,
      "outputs": [
        {
          "name": "stdout",
          "output_type": "stream",
          "text": [
            "Enter a number: 6\n",
            "Enter a number: 7\n",
            "Enter a number: 0\n"
          ]
        },
        {
          "output_type": "execute_result",
          "data": {
            "text/plain": [
              "[6, 7]"
            ]
          },
          "metadata": {},
          "execution_count": 26
        }
      ]
    },
    {
      "cell_type": "code",
      "source": [
        "months = {}\n",
        "numbers = [1,2,3,4,5,6,7,8,9,10,11,12]\n",
        "names = [\"Jan\",\"Feb\",\"Mar\",\"Apr\",\"May\",\"Jun\",\"Jul\",\"Aug\",\"Sep\",\"Oct\",\"Nov\",\"Dec\"]\n",
        "for number in numbers:\n",
        "  months[number] = names[number-1]\n",
        "print(months)"
      ],
      "metadata": {
        "colab": {
          "base_uri": "https://localhost:8080/"
        },
        "id": "LCTCC_yOzNot",
        "outputId": "b2f19fc0-6445-4dd5-c155-c4116f7cd942"
      },
      "execution_count": null,
      "outputs": [
        {
          "output_type": "stream",
          "name": "stdout",
          "text": [
            "{1: 'Jan', 2: 'Feb', 3: 'Mar', 4: 'Apr', 5: 'May', 6: 'Jun', 7: 'Jul', 8: 'Aug', 9: 'Sep', 10: 'Oct', 11: 'Nov', 12: 'Dec'}\n"
          ]
        }
      ]
    },
    {
      "cell_type": "code",
      "source": [
        "def greeting(n):\n",
        "  print(f'Hello {n}! ')\n",
        "name = input('Enter a name: ')\n",
        "greeting(name)"
      ],
      "metadata": {
        "colab": {
          "base_uri": "https://localhost:8080/"
        },
        "id": "JPoOx05ADwXQ",
        "outputId": "2e456c4f-64bd-4a36-86f5-631d8be21341"
      },
      "execution_count": 3,
      "outputs": [
        {
          "output_type": "stream",
          "name": "stdout",
          "text": [
            "Enter a name: Lilly\n",
            "Hello Lilly! \n"
          ]
        }
      ]
    },
    {
      "cell_type": "code",
      "source": [
        "def add_num(a, b=5):\n",
        "  return a + b\n",
        "\n",
        "x=5\n",
        "y=6\n",
        "c= add_num(x, b=y)\n",
        "print(c)"
      ],
      "metadata": {
        "colab": {
          "base_uri": "https://localhost:8080/"
        },
        "id": "nFM07yFdEEcq",
        "outputId": "967b3aee-c333-42ba-f383-5269ef3dc373"
      },
      "execution_count": 4,
      "outputs": [
        {
          "output_type": "stream",
          "name": "stdout",
          "text": [
            "11\n"
          ]
        }
      ]
    },
    {
      "cell_type": "code",
      "source": [
        "def fill():\n",
        "  l=[]\n",
        "  for i in range(10):\n",
        "    l.append(i)\n",
        "    if i%2 == 0:\n",
        "      l.pop()\n",
        "  print(l)\n",
        "fill()"
      ],
      "metadata": {
        "colab": {
          "base_uri": "https://localhost:8080/"
        },
        "id": "RWtjMmcuEPkr",
        "outputId": "7ab1670a-aa30-4fd8-a7cc-991baf807f31"
      },
      "execution_count": 6,
      "outputs": [
        {
          "output_type": "stream",
          "name": "stdout",
          "text": [
            "[1, 3, 5, 7, 9]\n"
          ]
        }
      ]
    }
  ]
}